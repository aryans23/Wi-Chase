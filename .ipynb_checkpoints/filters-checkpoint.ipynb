{
 "cells": [
  {
   "cell_type": "code",
   "execution_count": 176,
   "metadata": {},
   "outputs": [],
   "source": [
    "import pandas as pd\n",
    "import numpy as np\n",
    "import os\n",
    "from matplotlib import pyplot as plt\n",
    "from scipy.signal import butter, lfilter\n",
    "from scipy.signal import freqz\n",
    "%matplotlib inline"
   ]
  },
  {
   "cell_type": "code",
   "execution_count": 177,
   "metadata": {},
   "outputs": [],
   "source": [
    "class FileUtilities(object):\n",
    "\t\"\"\" \n",
    "\t\tReads the CSI data \n",
    "\t\"\"\"\n",
    "\tdef __init__(self, path):\n",
    "\t\tsuper(FileUtilities, self).__init__()\n",
    "\t\tself.path = path\n",
    "\t\tself.data_matrices = []\n",
    "\t\tself.amplitude = []\n",
    "\t\tself.labels = []\n",
    "\t\tprint(\"FileUtilities initialized\")\n",
    "\t\t\n",
    "\tdef read_csv(self,file):\n",
    "\t\treturn pd.read_csv(file)\n",
    "\n",
    "\tdef get_data_matrix(self,df):\n",
    "\t\t\"\"\" Returns the timestamps, amplitude and phase as a single matrix \"\"\"\n",
    "\t\treturn(df.as_matrix())\n",
    "\n",
    "\tdef get_data_matrices(self):\n",
    "\t\tfiles = os.listdir(self.path)\n",
    "\t\tfor file in files:\n",
    "\t\t\tdf = self.read_csv(self.path+file)\n",
    "\t\t\t# label = str(str(file).split('-')[1])\n",
    "\t\t\tlabel = str(str(file).split('_')[3])\n",
    "\t\t\tself.labels.append(label)\n",
    "\t\t\tprint(\"Reading \" + str(file) + \"...\")\n",
    "\t\t\tdata = self.get_data_matrix(df)\n",
    "\t\t\tself.data_matrices.append(data)\n",
    "\t\tprint(\"FileUtilities::get_data_matrices read %d files\" %(len(self.data_matrices)))\n",
    "\t\treturn self.data_matrices\n",
    "\n",
    "\tdef get_amplitude_matrices(self):\n",
    "\t\tif not self.data_matrices:\n",
    "\t\t\tself.get_data_matrices()\n",
    "\t\tfor data_matrix in self.data_matrices:\n",
    "\t\t\tself.amplitude.append(np.array(data_matrix[:,1:]))\t\t# for new data\n",
    "\t\t\t# self.amplitude.append(np.array(data_matrix[:,1:91]))\n",
    "\t\treturn self.amplitude"
   ]
  },
  {
   "cell_type": "code",
   "execution_count": 178,
   "metadata": {},
   "outputs": [],
   "source": [
    "class MovingVariance(object):\n",
    "\t\"\"\" Calculates moving variance \"\"\"\n",
    "\tdef __init__(self, C, window):\n",
    "\t\tsuper(MovingVariance, self).__init__()\n",
    "\t\tself.C_ = C\n",
    "\t\tself.window_ = window\n",
    "\t\tprint(\"MovingVariance initialized\")\n",
    "\n",
    "\tdef get_moving_var(self):\n",
    "\t\treturn pd.rolling_var(self.C_,self.window_)\n",
    "\t\n",
    "\tdef get_cumulative_moving_variance(self,V):\n",
    "\t\treturn np.sum(V,axis=1)"
   ]
  },
  {
   "cell_type": "code",
   "execution_count": 179,
   "metadata": {},
   "outputs": [],
   "source": [
    "class CoarseActivityDetection(object):\n",
    "\t\"\"\"\n",
    "\t\tAnnotates and stores the the activity detected between walking and running\n",
    "\t\tInput: dataframes of the CSI data, threshold to be set.\n",
    "\t\tOutput: Cumulatice Moving Variances\n",
    "\t\t\t\tMax of Cumulative Variances per data set\n",
    "\t\t\t\tplots Cumulatice Moving Variances\n",
    "\t\t\t\tplots Max of Cumulative Variances per data set\n",
    "\t\"\"\"\n",
    "\t\n",
    "\tdef __init__(self, data_matrices, threshold):\n",
    "\t\tsuper(CoarseActivityDetection, self).__init__()\n",
    "\t\tself.data_matrices = data_matrices\n",
    "\t\tself.threshold = threshold\n",
    "\t\tself.max_cmvs_ = []\n",
    "\t\tself.cmvs_ = []\n",
    "\t\tprint(\"CoarseActivityDetection initialized\")\n",
    "\n",
    "\tdef _store_cumulative_moving_variance(self, data):\n",
    "\t\tprint('Calculating Cumulative Moving Variance...')\n",
    "\t\tamplitude = data[:,1:91]\n",
    "\t\tmv = MovingVariance(amplitude,1000)\n",
    "\t\tV = mv.get_moving_var()\n",
    "\t\tCMV = mv.get_cumulative_moving_variance(V)\n",
    "\t\tself.cmvs_.append(np.array(CMV))\n",
    "\t\treturn self\n",
    "\n",
    "\tdef get_cmv_for_all_files(self):\n",
    "\t\tprint(\"Calculating cmv...\")\n",
    "\t\tfor data_matrix in self.data_matrices:\n",
    "\t\t\tself._store_cumulative_moving_variance(data_matrix)\n",
    "\t\treturn self\n",
    "\n",
    "\tdef get_max_variance(self):\n",
    "\t\tprint(self.cmvs_)\n",
    "\t\tfor cmv in self.cmvs_:\n",
    "\t\t\tself.max_cmvs_.append(np.nanmax(cmv,axis=0))\n",
    "\t\treturn self\n",
    "\n",
    "\tdef plot_cmvs(self):\n",
    "\t\tprint(\"Plotting Cumulative Moving Variance...\")\n",
    "\t\tplt.figure(figsize=(12,6))\n",
    "\t\tplt.title('Cumulative Moving Variance over time')\n",
    "\t\tplt.xlabel('Time')\n",
    "\t\tplt.ylabel('Cumulative Moving Variance')\n",
    "\t\tplt.grid(True)\n",
    "\t\tfor cmv in self.cmvs_:\n",
    "\t\t\tplt.plot(range(1, cmv.shape[0]+1) , cmv)\n",
    "\t\t# plt.legend(loc='upper right')\n",
    "\t\tplt.show()\n",
    "\n",
    "\tdef plot_max_cmvs(self):\n",
    "\t\tprint(\"Plotting Maximum Cumulative Moving Variance...\")\n",
    "\t\tplt.figure(figsize=(12,6))\n",
    "\t\tplt.title('Maximum Cumulative Moving Variance of each CSI set')\n",
    "\t\tplt.grid(True)\n",
    "\t\tplt.xlabel('Samples')\n",
    "\t\tplt.ylabel('Maximum Cumulative Moving Variance')\n",
    "\t\tprint(self.max_cmvs_)\n",
    "\t\t# print(self.max_cmvs_.shape)\n",
    "\t\tplt.plot(range(1, len(self.max_cmvs_)+1) , self.max_cmvs_, marker = 'o')\n",
    "\t\t# plt.legend(loc='upper right')\n",
    "\t\tplt.show()"
   ]
  },
  {
   "cell_type": "code",
   "execution_count": 180,
   "metadata": {},
   "outputs": [],
   "source": [
    "class EarthMovingDistance(object):\n",
    "\t\"\"\" \n",
    "\t\tEarthMovingDistance class\n",
    "\t\tInput: list of amplitude histograms\n",
    "\t\tOutput: E matrix\n",
    "\t\"\"\"\n",
    "\tdef __init__(self, amplitude_histograms):\n",
    "\t\tsuper(EarthMovingDistance, self).__init__()\n",
    "\t\tself.amplitude_histograms = amplitude_histograms\n",
    "\t\tself.E = []\n",
    "\t\tself.closest = [] # can be calculated from E as well \n",
    "\t\tprint(\"EarthMovingDistance classifier initialized\")\n",
    "\n",
    "\tdef _ground_distance(self, histogram1, histogram2):\n",
    "\t\treturn pairwise.pairwise_distances(histogram1.reshape(-1,1),histogram2.reshape(-1,1))\n",
    "\n",
    "\tdef _get_emd(self, histogram1, histogram2):\n",
    "\t\t\"\"\" \n",
    "\t\t\tInput: histograms -> histogram of amplitude bins for single round\n",
    "\t\t\tOutput: The Earth Mover Distance between two histograms\n",
    "\t\t\"\"\"\n",
    "\t\thistogram1 = histogram1.astype(float)\n",
    "\t\thistogram2 = histogram2.astype(float)\n",
    "\t\tgd = self._ground_distance(histogram1, histogram2)\n",
    "\t\treturn emd(histogram1, histogram2, gd)\n",
    "\n",
    "\tdef get_EMD_matrix(self):\n",
    "\t\t\"\"\"\n",
    "\t\t\tInput: cached amplitude_histograms\n",
    "\t\t\tOutput: cached EMD matrix (R x R)\n",
    "\t\t\"\"\"\n",
    "\t\tprint(\"Calculating EMD matrix for %d histograms\" %(len(self.amplitude_histograms))) \n",
    "\t\tfor C_r in self.amplitude_histograms:\n",
    "\t\t\tE_r = []\n",
    "\t\t\tfor C_i in self.amplitude_histograms:\n",
    "\t\t\t\temd = self._get_emd(C_r,C_i)\n",
    "\t\t\t\tE_r.append(emd)\n",
    "\t\t\t\t# print(\"EMD calculated in current iteration as \", str(emd))\n",
    "\t\t\tE_r_np = np.array(E_r)\n",
    "\t\t\t# calculating the second smallest emd as smallest would be 0\n",
    "\t\t\tclosest_activity = E_r_np.argsort()[1] \n",
    "\t\t\tself.closest.append(closest_activity)\n",
    "\t\t\tself.E.append(np.array(E_r))\n",
    "\t\tprint(\"EMD matrix calculated!\")\n",
    "\t\treturn np.array(self.E)\n",
    "\n",
    "\tdef get_closest_activity(self):\n",
    "\t\tprint(\"Calculating closest_activity\")\n",
    "\t\tif not self.E:\n",
    "\t\t\tself.get_EMD_matrix()\n",
    "\t\tprint(\"closest_activity calculated\")\n",
    "\t\treturn np.array(self.closest)"
   ]
  },
  {
   "cell_type": "code",
   "execution_count": 181,
   "metadata": {},
   "outputs": [],
   "source": [
    "def butter_lowpass(cutoff, fs, order=5):\n",
    "    nyq = 0.5 * fs\n",
    "    normal_cutoff = cutoff / nyq\n",
    "    b, a = butter(order, normal_cutoff, btype='low', analog=False)\n",
    "    return b, a"
   ]
  },
  {
   "cell_type": "code",
   "execution_count": 182,
   "metadata": {},
   "outputs": [],
   "source": [
    "def butter_lowpass_filter(data, cutoff, fs, order=5):\n",
    "    b, a = butter_lowpass(cutoff, fs, order=order)\n",
    "    y = lfilter(b, a, data)\n",
    "    return y"
   ]
  },
  {
   "cell_type": "code",
   "execution_count": 235,
   "metadata": {},
   "outputs": [],
   "source": [
    "# Filter requirements.\n",
    "order = 8\n",
    "fs = 10        # sample rate, Hz\n",
    "cutoff = 0.1   # desired cutoff frequency of the filter, Hz"
   ]
  },
  {
   "cell_type": "code",
   "execution_count": 236,
   "metadata": {},
   "outputs": [
    {
     "data": {
      "image/png": "[encoded data removed]",
      "text/plain": [
       "<matplotlib.figure.Figure at 0x11a6bb978>"
      ]
     },
     "metadata": {},
     "output_type": "display_data"
    }
   ],
   "source": [
    "# Get the filter coefficients so we can check its frequency response.\n",
    "b, a = butter_lowpass(cutoff, fs, order)\n",
    "# Plot the frequency response.\n",
    "w, h = freqz(b, a, worN=8000)\n",
    "plt.subplot(2, 1, 1)\n",
    "plt.plot(0.5*fs*w/np.pi, np.abs(h), 'b')\n",
    "plt.plot(cutoff, 0.5*np.sqrt(2), 'ko')\n",
    "plt.axvline(cutoff, color='k')\n",
    "plt.xlim(0, 0.5*fs)\n",
    "plt.title(\"Lowpass Filter Frequency Response\")\n",
    "plt.xlabel('Frequency [Hz]')\n",
    "plt.grid()"
   ]
  },
  {
   "cell_type": "code",
   "execution_count": 237,
   "metadata": {},
   "outputs": [],
   "source": [
    "path = '/Users/Apple/Documents/git-aryans/data/'\n",
    "input_file = 'test33_csi-parsed.csv'\n",
    "df = utl.read_csv(path+input_file)\n",
    "data1 = utl.get_data_matrix(df)\n",
    "# plt.plot(range(1, CMV.shape[0]+1) , CMV)"
   ]
  },
  {
   "cell_type": "code",
   "execution_count": 238,
   "metadata": {},
   "outputs": [
    {
     "data": {
      "text/plain": [
       "[<matplotlib.lines.Line2D at 0x11a53f0b8>]"
      ]
     },
     "execution_count": 238,
     "metadata": {},
     "output_type": "execute_result"
    },
    {
     "data": {
      "image/png": "[encoded data removed]",
      "text/plain": [
       "<matplotlib.figure.Figure at 0x1190da860>"
      ]
     },
     "metadata": {},
     "output_type": "display_data"
    }
   ],
   "source": [
    "# s = data[:,1:31]\n",
    "# s1 = np.sum(s,axis = 0)\n",
    "s = data[:,1]\n",
    "s1 = data1[:,1]\n",
    "# plt.plot(s)\n",
    "plt.plot(s1)"
   ]
  },
  {
   "cell_type": "code",
   "execution_count": 239,
   "metadata": {},
   "outputs": [
    {
     "data": {
      "text/plain": [
       "[<matplotlib.lines.Line2D at 0x1187b1940>]"
      ]
     },
     "execution_count": 239,
     "metadata": {},
     "output_type": "execute_result"
    },
    {
     "data": {
      "image/png": "[encoded data removed]",
      "text/plain": [
       "<matplotlib.figure.Figure at 0x11a523ac8>"
      ]
     },
     "metadata": {},
     "output_type": "display_data"
    }
   ],
   "source": [
    "plt.clf()\n",
    "y = butter_lowpass_filter(s1, cutoff, fs, order)\n",
    "plt.plot(y)"
   ]
  },
  {
   "cell_type": "code",
   "execution_count": 147,
   "metadata": {},
   "outputs": [
    {
     "name": "stdout",
     "output_type": "stream",
     "text": [
      "[[ 52.851  63.382  45.594 ...,  23.51   74.431  33.418]\n",
      " [ 78.306  65.152  74.762 ...,  31.109  71.263  58.552]\n",
      " [ 70.123  50.995  45.751 ...,  15.056  64.782  40.709]\n",
      " ..., \n",
      " [ 70.863  49.567  56.261 ...,   6.653  72.529  45.274]\n",
      " [ 62.754  53.475  55.081 ...,   8.895  64.382  53.098]\n",
      " [ 74.218  43.62   53.565 ...,  13.865  69.958  48.866]]\n",
      "(131, 30)\n",
      "[  12.   39.   59.   34.   15.   25.   29.   40.   56.   67.   63.   78.\n",
      "  106.  103.  111.  102.   96.  101.   92.   82.   76.   72.   60.   86.\n",
      "   97.  114.  110.  121.  126.  131.  148.  131.  126.  113.   83.   65.\n",
      "   71.   58.   67.   53.   53.   54.   40.   39.   31.   29.   31.   20.\n",
      "   21.   21.   15.   15.   14.   18.   12.   17.   16.    4.   11.   18.\n",
      "   18.   14.   18.   14.   14.   21.   15.   14.   10.   22.   17.   11.\n",
      "   14.    7.   14.    3.    3.    2.    1.    0.    1.    0.    0.    0.\n",
      "    0.    0.    0.    0.    0.    0.    0.    0.    0.    0.    0.    0.\n",
      "    0.    0.    0.    0.]\n"
     ]
    },
    {
     "name": "stderr",
     "output_type": "stream",
     "text": [
      "/Library/Frameworks/Python.framework/Versions/3.6/lib/python3.6/site-packages/matplotlib/cbook/deprecation.py:106: MatplotlibDeprecationWarning: Adding an axes using the same arguments as a previous axes currently reuses the earlier instance.  In a future version, a new instance will always be created and returned.  Meanwhile, this warning can be suppressed, and the future behavior ensured, by passing a unique label to each axes instance.\n",
      "  warnings.warn(message, mplDeprecation, stacklevel=1)\n"
     ]
    },
    {
     "data": {
      "image/png": "[encoded data removed]",
      "text/plain": [
       "<matplotlib.figure.Figure at 0x1166aa080>"
      ]
     },
     "metadata": {},
     "output_type": "display_data"
    }
   ],
   "source": [
    "path = '/Users/Apple/Documents/git-aryans/data/loc_bed/'\n",
    "input_file = '8-falling-parsed.csv'\n",
    "df = utl.read_csv(path+input_file)\n",
    "data = utl.get_data_matrix(df)\n",
    "C = data[:,151:181]\n",
    "print(C)\n",
    "dt = data[:,1:31]\n",
    "print(dt.shape)\n",
    "freq = np.zeros(100)\n",
    "for packet in dt:\n",
    "\tfor amp in packet:\n",
    "\t\tfreq[int(amp)] += 1\n",
    "print(freq)\n",
    "plt.figure(figsize=(8,3))\n",
    "plt.title('Amplitude bins and counts')\n",
    "plt.xlabel('Bins')\n",
    "plt.ylabel('Amplitude Counts')\n",
    "# plt.grid(True)\n",
    "pos = np.arange(freq.shape[0])\n",
    "pos_x = np.arange(0,freq.shape[0],5)\n",
    "width = 0.7\n",
    "ax = plt.axes()\n",
    "ax.set_xticks(pos_x)\n",
    "ax.set_xticklabels(pos_x)\n",
    "# plt.bar(pos, freq, width)\n",
    "plt.bar(pos, freq, width,color='green')\n",
    "plt.show()"
   ]
  },
  {
   "cell_type": "code",
   "execution_count": 240,
   "metadata": {},
   "outputs": [
    {
     "data": {
      "text/plain": [
       "array([  12.,   39.,   59.,   34.,   15.,   25.,   29.,   40.,   56.,\n",
       "         67.,   63.,   78.,  106.,  103.,  111.,  102.,   96.,  101.,\n",
       "         92.,   82.,   76.,   72.,   60.,   86.,   97.,  114.,  110.,\n",
       "        121.,  126.,  131.,  148.,  131.,  126.,  113.,   83.,   65.,\n",
       "         71.,   58.,   67.,   53.,   53.,   54.,   40.,   39.,   31.,\n",
       "         29.,   31.,   20.,   21.,   21.,   15.,   15.,   14.,   18.,\n",
       "         12.,   17.,   16.,    4.,   11.,   18.,   18.,   14.,   18.,\n",
       "         14.,   14.,   21.,   15.,   14.,   10.,   22.,   17.,   11.,\n",
       "         14.,    7.,   14.,    3.,    3.,    2.,    1.,    0.,    1.,\n",
       "          0.,    0.,    0.,    0.,    0.,    0.,    0.,    0.,    0.,\n",
       "          0.,    0.,    0.,    0.,    0.,    0.,    0.,    0.,    0.,    0.])"
      ]
     },
     "execution_count": 240,
     "metadata": {},
     "output_type": "execute_result"
    }
   ],
   "source": []
  },
  {
   "cell_type": "code",
   "execution_count": 242,
   "metadata": {},
   "outputs": [
    {
     "name": "stdout",
     "output_type": "stream",
     "text": [
      "EarthMovingDistance classifier initialized\n"
     ]
    }
   ],
   "source": [
    "emd = EarthMovingDistance([freq,freq])"
   ]
  },
  {
   "cell_type": "code",
   "execution_count": null,
   "metadata": {},
   "outputs": [],
   "source": []
  }
 ],
 "metadata": {
  "kernelspec": {
   "display_name": "Python 3",
   "language": "python",
   "name": "python3"
  },
  "language_info": {
   "codemirror_mode": {
    "name": "ipython",
    "version": 3
   },
   "file_extension": ".py",
   "mimetype": "text/x-python",
   "name": "python",
   "nbconvert_exporter": "python",
   "pygments_lexer": "ipython3",
   "version": "3.6.3"
  }
 },
 "nbformat": 4,
 "nbformat_minor": 2
}
