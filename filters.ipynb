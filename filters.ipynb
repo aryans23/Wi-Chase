{
 "cells": [
  {
   "cell_type": "code",
   "execution_count": 134,
   "metadata": {},
   "outputs": [],
   "source": [
    "import pandas as pd\n",
    "import numpy as np\n",
    "import os\n",
    "from matplotlib import pyplot as plt\n",
    "from scipy.signal import butter, lfilter\n",
    "from scipy.signal import freqz\n",
    "from pyemd import emd\n",
    "from sklearn.metrics import pairwise\n",
    "%matplotlib inline"
   ]
  },
  {
   "cell_type": "code",
   "execution_count": 135,
   "metadata": {},
   "outputs": [],
   "source": [
    "class FileUtilities(object):\n",
    "    \"\"\" \n",
    "        Reads the CSI data \n",
    "    \"\"\"\n",
    "    def __init__(self, path):\n",
    "        super(FileUtilities, self).__init__()\n",
    "        self.path = path\n",
    "        self.data_matrices = []\n",
    "        self.amplitude = []\n",
    "        self.labels = []\n",
    "        print(\"FileUtilities initialized\")\n",
    "        \n",
    "    def read_csv(self,file):\n",
    "        return pd.read_csv(file)\n",
    "\n",
    "    def get_data_matrix(self,df):\n",
    "        \"\"\" Returns the timestamps, amplitude and phase as a single matrix \"\"\"\n",
    "        return(df.as_matrix())\n",
    "\n",
    "    def get_data_matrices(self):\n",
    "        files = os.listdir(self.path)\n",
    "        for file in files:\n",
    "            df = self.read_csv(self.path+file)\n",
    "            # label = str(str(file).split('-')[1])\n",
    "            label = str(str(file).split('_')[3])\n",
    "            self.labels.append(label)\n",
    "            print(\"Reading \" + str(file) + \"...\")\n",
    "            data = self.get_data_matrix(df)\n",
    "            self.data_matrices.append(data)\n",
    "        print(\"FileUtilities::get_data_matrices read %d files\" %(len(self.data_matrices)))\n",
    "        return self.data_matrices\n",
    "\n",
    "    def get_amplitude_matrices(self):\n",
    "        if not self.data_matrices:\n",
    "            self.get_data_matrices()\n",
    "        for data_matrix in self.data_matrices:\n",
    "            self.amplitude.append(np.array(data_matrix[:,1:]))\t\t# for new data\n",
    "            # self.amplitude.append(np.array(data_matrix[:,1:91]))\n",
    "        return self.amplitude\n",
    "    \n",
    "    def plot_reading_amp_summed(self,input_file):\n",
    "        df = self.read_csv(self.path+input_file)\n",
    "        data = self.get_data_matrix(df)\n",
    "        s = data[:,1:31]\n",
    "        res = np.sum(s,axis = 0)\n",
    "        return res\n",
    "    \n",
    "    def plot_reading_amp_subcarrier(self,input_file,subcarrier_index):\n",
    "        df = self.read_csv(self.path+input_file)\n",
    "        data = self.get_data_matrix(df)\n",
    "        s = data[:,subcarrier_index]\n",
    "        return s"
   ]
  },
  {
   "cell_type": "code",
   "execution_count": 136,
   "metadata": {},
   "outputs": [],
   "source": [
    "class MovingVariance(object):\n",
    "\t\"\"\" Calculates moving variance \"\"\"\n",
    "\tdef __init__(self, C, window):\n",
    "\t\tsuper(MovingVariance, self).__init__()\n",
    "\t\tself.C_ = C\n",
    "\t\tself.window_ = window\n",
    "\t\tprint(\"MovingVariance initialized\")\n",
    "\n",
    "\tdef get_moving_var(self):\n",
    "\t\treturn pd.rolling_var(self.C_,self.window_)\n",
    "\t\n",
    "\tdef get_cumulative_moving_variance(self,V):\n",
    "\t\treturn np.sum(V,axis=1)"
   ]
  },
  {
   "cell_type": "code",
   "execution_count": 137,
   "metadata": {},
   "outputs": [],
   "source": [
    "class CoarseActivityDetection(object):\n",
    "\t\"\"\"\n",
    "\t\tAnnotates and stores the the activity detected between walking and running\n",
    "\t\tInput: dataframes of the CSI data, threshold to be set.\n",
    "\t\tOutput: Cumulatice Moving Variances\n",
    "\t\t\t\tMax of Cumulative Variances per data set\n",
    "\t\t\t\tplots Cumulatice Moving Variances\n",
    "\t\t\t\tplots Max of Cumulative Variances per data set\n",
    "\t\"\"\"\n",
    "\t\n",
    "\tdef __init__(self, data_matrices, threshold):\n",
    "\t\tsuper(CoarseActivityDetection, self).__init__()\n",
    "\t\tself.data_matrices = data_matrices\n",
    "\t\tself.threshold = threshold\n",
    "\t\tself.max_cmvs_ = []\n",
    "\t\tself.cmvs_ = []\n",
    "\t\tprint(\"CoarseActivityDetection initialized\")\n",
    "\n",
    "\tdef _store_cumulative_moving_variance(self, data):\n",
    "\t\tprint('Calculating Cumulative Moving Variance...')\n",
    "\t\tamplitude = data[:,1:91]\n",
    "\t\tmv = MovingVariance(amplitude,1000)\n",
    "\t\tV = mv.get_moving_var()\n",
    "\t\tCMV = mv.get_cumulative_moving_variance(V)\n",
    "\t\tself.cmvs_.append(np.array(CMV))\n",
    "\t\treturn self\n",
    "\n",
    "\tdef get_cmv_for_all_files(self):\n",
    "\t\tprint(\"Calculating cmv...\")\n",
    "\t\tfor data_matrix in self.data_matrices:\n",
    "\t\t\tself._store_cumulative_moving_variance(data_matrix)\n",
    "\t\treturn self\n",
    "\n",
    "\tdef get_max_variance(self):\n",
    "\t\tprint(self.cmvs_)\n",
    "\t\tfor cmv in self.cmvs_:\n",
    "\t\t\tself.max_cmvs_.append(np.nanmax(cmv,axis=0))\n",
    "\t\treturn self\n",
    "\n",
    "\tdef plot_cmvs(self):\n",
    "\t\tprint(\"Plotting Cumulative Moving Variance...\")\n",
    "\t\tplt.figure(figsize=(12,6))\n",
    "\t\tplt.title('Cumulative Moving Variance over time')\n",
    "\t\tplt.xlabel('Time')\n",
    "\t\tplt.ylabel('Cumulative Moving Variance')\n",
    "\t\tplt.grid(True)\n",
    "\t\tfor cmv in self.cmvs_:\n",
    "\t\t\tplt.plot(range(1, cmv.shape[0]+1) , cmv)\n",
    "\t\t# plt.legend(loc='upper right')\n",
    "\t\tplt.show()\n",
    "\n",
    "\tdef plot_max_cmvs(self):\n",
    "\t\tprint(\"Plotting Maximum Cumulative Moving Variance...\")\n",
    "\t\tplt.figure(figsize=(12,6))\n",
    "\t\tplt.title('Maximum Cumulative Moving Variance of each CSI set')\n",
    "\t\tplt.grid(True)\n",
    "\t\tplt.xlabel('Samples')\n",
    "\t\tplt.ylabel('Maximum Cumulative Moving Variance')\n",
    "\t\tprint(self.max_cmvs_)\n",
    "\t\t# print(self.max_cmvs_.shape)\n",
    "\t\tplt.plot(range(1, len(self.max_cmvs_)+1) , self.max_cmvs_, marker = 'o')\n",
    "\t\t# plt.legend(loc='upper right')\n",
    "\t\tplt.show()"
   ]
  },
  {
   "cell_type": "code",
   "execution_count": 138,
   "metadata": {},
   "outputs": [],
   "source": [
    "class EarthMovingDistance(object):\n",
    "\t\"\"\" \n",
    "\t\tEarthMovingDistance class\n",
    "\t\tInput: list of amplitude histograms\n",
    "\t\tOutput: E matrix\n",
    "\t\"\"\"\n",
    "\tdef __init__(self, amplitude_histograms):\n",
    "\t\tsuper(EarthMovingDistance, self).__init__()\n",
    "\t\tself.amplitude_histograms = amplitude_histograms\n",
    "\t\tself.E = []\n",
    "\t\tself.closest = [] # can be calculated from E as well \n",
    "\t\tprint(\"EarthMovingDistance classifier initialized\")\n",
    "\n",
    "\tdef _ground_distance(self, histogram1, histogram2):\n",
    "\t\treturn pairwise.pairwise_distances(histogram1.reshape(-1,1),histogram2.reshape(-1,1))\n",
    "\n",
    "\tdef _get_emd(self, histogram1, histogram2):\n",
    "\t\t\"\"\" \n",
    "\t\t\tInput: histograms -> histogram of amplitude bins for single round\n",
    "\t\t\tOutput: The Earth Mover Distance between two histograms\n",
    "\t\t\"\"\"\n",
    "\t\thistogram1 = histogram1.astype(float)\n",
    "\t\thistogram2 = histogram2.astype(float)\n",
    "\t\tgd = self._ground_distance(histogram1, histogram2)\n",
    "\t\treturn emd(histogram1, histogram2, gd)\n",
    "\n",
    "\tdef get_EMD_matrix(self):\n",
    "\t\t\"\"\"\n",
    "\t\t\tInput: cached amplitude_histograms\n",
    "\t\t\tOutput: cached EMD matrix (R x R)\n",
    "\t\t\"\"\"\n",
    "\t\tprint(\"Calculating EMD matrix for %d histograms\" %(len(self.amplitude_histograms))) \n",
    "\t\tfor C_r in self.amplitude_histograms:\n",
    "\t\t\tE_r = []\n",
    "\t\t\tfor C_i in self.amplitude_histograms:\n",
    "\t\t\t\temd = self._get_emd(C_r,C_i)\n",
    "\t\t\t\tE_r.append(emd)\n",
    "\t\t\t\t# print(\"EMD calculated in current iteration as \", str(emd))\n",
    "\t\t\tE_r_np = np.array(E_r)\n",
    "\t\t\t# calculating the second smallest emd as smallest would be 0\n",
    "\t\t\tclosest_activity = E_r_np.argsort()[1] \n",
    "\t\t\tself.closest.append(closest_activity)\n",
    "\t\t\tself.E.append(np.array(E_r))\n",
    "\t\tprint(\"EMD matrix calculated!\")\n",
    "\t\treturn np.array(self.E)\n",
    "\n",
    "\tdef get_closest_activity(self):\n",
    "\t\tprint(\"Calculating closest_activity\")\n",
    "\t\tif not self.E:\n",
    "\t\t\tself.get_EMD_matrix()\n",
    "\t\tprint(\"closest_activity calculated\")\n",
    "\t\treturn np.array(self.closest)"
   ]
  },
  {
   "cell_type": "code",
   "execution_count": 287,
   "metadata": {},
   "outputs": [],
   "source": [
    "def get_hist(path,input_file):\n",
    "    utl = FileUtilities(path)\n",
    "    df = utl.read_csv(path+input_file)\n",
    "    data = utl.get_data_matrix(df)\n",
    "    dt = data[:,1:31]\n",
    "    # print(dt.shape)\n",
    "    freq = np.zeros(100)\n",
    "    for packet in dt:\n",
    "        for amp in packet:\n",
    "            freq[int(amp)] += 1\n",
    "    # print(freq)\n",
    "    return freq"
   ]
  },
  {
   "cell_type": "code",
   "execution_count": 288,
   "metadata": {},
   "outputs": [],
   "source": [
    "def plot_hist(freq):\n",
    "    plt.figure(figsize=(8,3))\n",
    "    plt.title('Amplitude bins and counts')\n",
    "    plt.xlabel('Bins')\n",
    "    plt.ylabel('Amplitude Counts')\n",
    "    # plt.grid(True)\n",
    "    pos = np.arange(freq.shape[0])\n",
    "    pos_x = np.arange(0,freq.shape[0],5)\n",
    "    width = 0.7\n",
    "    ax = plt.axes()\n",
    "    ax.set_xticks(pos_x)\n",
    "    ax.set_xticklabels(pos_x)\n",
    "    # plt.bar(pos, freq, width)\n",
    "    plt.bar(pos, freq, width,color='green')\n",
    "    plt.show()"
   ]
  },
  {
   "cell_type": "code",
   "execution_count": 289,
   "metadata": {},
   "outputs": [],
   "source": [
    "def butter_lowpass(cutoff, fs, order=5):\n",
    "    nyq = 0.5 * fs\n",
    "    normal_cutoff = cutoff / nyq\n",
    "    b, a = butter(order, normal_cutoff, btype='low', analog=False)\n",
    "    return b, a"
   ]
  },
  {
   "cell_type": "code",
   "execution_count": 290,
   "metadata": {},
   "outputs": [],
   "source": [
    "def butter_lowpass_filter(data, cutoff, fs, order=5):\n",
    "    b, a = butter_lowpass(cutoff, fs, order=order)\n",
    "    y = lfilter(b, a, data)\n",
    "    return y"
   ]
  },
  {
   "cell_type": "code",
   "execution_count": 291,
   "metadata": {},
   "outputs": [
    {
     "data": {
      "image/png": "[encoded data removed]",
      "text/plain": [
       "<matplotlib.figure.Figure at 0x11f82e9b0>"
      ]
     },
     "metadata": {},
     "output_type": "display_data"
    }
   ],
   "source": [
    "# Filter requirements.\n",
    "order = 5\n",
    "fs = 10        # sample rate, Hz\n",
    "cutoff = 0.4   # desired cutoff frequency of the filter, Hz\n",
    "\n",
    "# Get the filter coefficients so we can check its frequency response.\n",
    "b, a = butter_lowpass(cutoff, fs, order)\n",
    "# Plot the frequency response.\n",
    "w, h = freqz(b, a, worN=8000)\n",
    "plt.subplot(2, 1, 1)\n",
    "plt.plot(0.5*fs*w/np.pi, np.abs(h), 'b')\n",
    "plt.plot(cutoff, 0.5*np.sqrt(2), 'ko')\n",
    "plt.axvline(cutoff, color='k')\n",
    "plt.xlim(0, 0.5*fs)\n",
    "plt.title(\"Lowpass Filter Frequency Response\")\n",
    "plt.xlabel('Frequency [Hz]')\n",
    "plt.grid()"
   ]
  },
  {
   "cell_type": "code",
   "execution_count": 292,
   "metadata": {},
   "outputs": [
    {
     "name": "stdout",
     "output_type": "stream",
     "text": [
      "FileUtilities initialized\n"
     ]
    },
    {
     "data": {
      "text/plain": [
       "[<matplotlib.lines.Line2D at 0x1219c20f0>]"
      ]
     },
     "execution_count": 292,
     "metadata": {},
     "output_type": "execute_result"
    },
    {
     "data": {
      "image/png": "[encoded data removed]",
      "text/plain": [
       "<matplotlib.figure.Figure at 0x11f801b00>"
      ]
     },
     "metadata": {},
     "output_type": "display_data"
    }
   ],
   "source": [
    "# path = '~/Documents/git-aryans/csi-data-parser/matlab/process_data/'\n",
    "path = '/Users/Apple/Documents/git-aryans/data/walking_loc_liv/'\n",
    "input_file = 'LivingToBed1-parsed.csv'\n",
    "utl = FileUtilities(path)\n",
    "df = utl.read_csv(path+input_file)\n",
    "data = utl.get_data_matrix(df)\n",
    "# plt.plot(range(1, CMV.shape[0]+1) , CMV)\n",
    "s = data[:,4]\n",
    "# s1 = np.sum(s,axis = 0)\n",
    "# s = data[:,1]\n",
    "# s1 = data[:,1]\n",
    "plt.plot(s)\n",
    "# plt.plot(s1)\n",
    "# print(s1)\n",
    "plt.clf()\n",
    "y = butter_lowpass_filter(s, cutoff, fs, order)\n",
    "plt.plot(y)"
   ]
  },
  {
   "cell_type": "code",
   "execution_count": 293,
   "metadata": {},
   "outputs": [
    {
     "name": "stdout",
     "output_type": "stream",
     "text": [
      "FileUtilities initialized\n"
     ]
    },
    {
     "data": {
      "text/plain": [
       "[<matplotlib.lines.Line2D at 0x121a14048>]"
      ]
     },
     "execution_count": 293,
     "metadata": {},
     "output_type": "execute_result"
    },
    {
     "data": {
      "image/png": "[encoded data removed]",
      "text/plain": [
       "<matplotlib.figure.Figure at 0x1219dae80>"
      ]
     },
     "metadata": {},
     "output_type": "display_data"
    }
   ],
   "source": [
    "# path = '~/Documents/git-aryans/csi-data-parser/matlab/process_data/'\n",
    "path = '/Users/Apple/Documents/git-aryans/data/walking_loc_liv/'\n",
    "# input_file = 'LivingToBed1-parsed.csv'\n",
    "# input_file = 'LivingToBed2-parsed.csv'\n",
    "# input_file = 'LivingToKitchen1-parsed.csv'\n",
    "input_file = 'LivingToKitchen2-parsed.csv'\n",
    "# input_file = 'BedToBath1-parsed.csv'\n",
    "# input_file = 'BedToBath2-parsed.csv'\n",
    "utl = FileUtilities(path)\n",
    "df = utl.read_csv(path+input_file)\n",
    "data = utl.get_data_matrix(df)\n",
    "s = data[:,4]\n",
    "# plt.plot(s)\n",
    "y = butter_lowpass_filter(s, cutoff, fs, order)\n",
    "plt.plot(y)"
   ]
  },
  {
   "cell_type": "code",
   "execution_count": null,
   "metadata": {},
   "outputs": [],
   "source": []
  },
  {
   "cell_type": "code",
   "execution_count": 294,
   "metadata": {},
   "outputs": [
    {
     "name": "stdout",
     "output_type": "stream",
     "text": [
      "FileUtilities initialized\n"
     ]
    },
    {
     "name": "stderr",
     "output_type": "stream",
     "text": [
      "/Library/Frameworks/Python.framework/Versions/3.6/lib/python3.6/site-packages/matplotlib/cbook/deprecation.py:106: MatplotlibDeprecationWarning: Adding an axes using the same arguments as a previous axes currently reuses the earlier instance.  In a future version, a new instance will always be created and returned.  Meanwhile, this warning can be suppressed, and the future behavior ensured, by passing a unique label to each axes instance.\n",
      "  warnings.warn(message, mplDeprecation, stacklevel=1)\n"
     ]
    },
    {
     "data": {
      "image/png": "[encoded data removed]",
      "text/plain": [
       "<matplotlib.figure.Figure at 0x123fb3588>"
      ]
     },
     "metadata": {},
     "output_type": "display_data"
    },
    {
     "name": "stdout",
     "output_type": "stream",
     "text": [
      "FileUtilities initialized\n"
     ]
    },
    {
     "data": {
      "image/png": "[encoded data removed]",
      "text/plain": [
       "<matplotlib.figure.Figure at 0x123fb3710>"
      ]
     },
     "metadata": {},
     "output_type": "display_data"
    },
    {
     "name": "stdout",
     "output_type": "stream",
     "text": [
      "FileUtilities initialized\n"
     ]
    },
    {
     "data": {
      "image/png": "[encoded data removed]",
      "text/plain": [
       "<matplotlib.figure.Figure at 0x121a209b0>"
      ]
     },
     "metadata": {},
     "output_type": "display_data"
    },
    {
     "name": "stdout",
     "output_type": "stream",
     "text": [
      "FileUtilities initialized\n"
     ]
    },
    {
     "data": {
      "image/png": "[encoded data removed]",
      "text/plain": [
       "<matplotlib.figure.Figure at 0x121e1b860>"
      ]
     },
     "metadata": {},
     "output_type": "display_data"
    },
    {
     "name": "stdout",
     "output_type": "stream",
     "text": [
      "FileUtilities initialized\n"
     ]
    },
    {
     "data": {
      "image/png": "[encoded data removed]",
      "text/plain": [
       "<matplotlib.figure.Figure at 0x126ddadd8>"
      ]
     },
     "metadata": {},
     "output_type": "display_data"
    },
    {
     "name": "stdout",
     "output_type": "stream",
     "text": [
      "FileUtilities initialized\n"
     ]
    },
    {
     "data": {
      "image/png": "[encoded data removed]",
      "text/plain": [
       "<matplotlib.figure.Figure at 0x128918ac8>"
      ]
     },
     "metadata": {},
     "output_type": "display_data"
    }
   ],
   "source": [
    "path = '/Users/Apple/Documents/git-aryans/data/walking_loc_liv/'\n",
    "\n",
    "input_file_1 = 'LivingToBed1-parsed.csv'\n",
    "freq1 = get_hist(path,input_file_1)\n",
    "plot_hist(freq1)\n",
    "\n",
    "input_file_2 = 'LivingToBed2-parsed.csv'\n",
    "freq2 = get_hist(path,input_file_2)\n",
    "plot_hist(freq2)\n",
    "\n",
    "input_file_3 = 'LivingToKitchen1-parsed.csv'\n",
    "freq3 = get_hist(path,input_file_3)\n",
    "plot_hist(freq3)\n",
    "\n",
    "input_file_4 = 'LivingToKitchen2-parsed.csv'\n",
    "freq4 = get_hist(path,input_file_4)\n",
    "plot_hist(freq4)\n",
    "\n",
    "input_file_5 = 'BedToBath1-parsed.csv'\n",
    "freq5 = get_hist(path,input_file_5)\n",
    "plot_hist(freq5)\n",
    "\n",
    "input_file_6 = 'BedToBath2-parsed.csv'\n",
    "freq6 = get_hist(path,input_file_6)\n",
    "plot_hist(freq6)"
   ]
  },
  {
   "cell_type": "code",
   "execution_count": 297,
   "metadata": {},
   "outputs": [
    {
     "name": "stdout",
     "output_type": "stream",
     "text": [
      "EarthMovingDistance classifier initialized\n",
      "Calculating EMD matrix for 6 histograms\n",
      "EMD matrix calculated!\n",
      "[[        0.            771115.204469     2177709.60647626\n",
      "    1215699.46241191  13595967.2957449    2853757.97135164]\n",
      " [   771115.204469           0.           1612154.64377129\n",
      "     829858.54825771  12592267.65918191   2510007.541367  ]\n",
      " [  2177709.60647626   1612154.64377129         0.           1146265.98155235\n",
      "   11528675.40535961   2470182.1314391 ]\n",
      " [  1215699.46241191    829858.54825771   1146265.98155235         0.\n",
      "   12682855.21895026   1777697.20711672]\n",
      " [ 13595967.2957449   12592267.65918191  11528675.40535961\n",
      "   12682855.21895026         0.          12526061.76734107]\n",
      " [  2853757.97135164   2510007.541367     2470182.1314391\n",
      "    1777697.20711672  12526061.76734107         0.        ]]\n",
      "\n",
      "[   771115.204469      771115.204469     1146265.98155235\n",
      "    829858.54825771  11528675.40535961   1777697.20711672]\n",
      "[ 1.  0.  3.  1.  2.  3.]\n"
     ]
    }
   ],
   "source": [
    "# print(freq)\n",
    "ed = EarthMovingDistance([freq1,freq2,freq3,freq4,freq5,freq6])\n",
    "M = ed.get_EMD_matrix()\n",
    "print(M)\n",
    "min_dis = np.zeros(M.shape[0])\n",
    "min_idx = np.zeros(M.shape[0])\n",
    "for i in range(M.shape[0]):\n",
    "    mn = float(\"inf\")\n",
    "    idx = i\n",
    "    for j in range(M.shape[1]):\n",
    "        if (M[i][j] == 0):\n",
    "            continue;\n",
    "        elif (M[i][j] < mn):\n",
    "            mn = min(mn,M[i][j])\n",
    "            idx = j\n",
    "    min_dis[i] = mn\n",
    "    min_idx[i] = idx\n",
    "\n",
    "print()\n",
    "print(min_dis)\n",
    "print(min_idx)"
   ]
  },
  {
   "cell_type": "code",
   "execution_count": 260,
   "metadata": {},
   "outputs": [
    {
     "data": {
      "text/plain": [
       "(1, 0, 3, 2, 5, 4)"
      ]
     },
     "execution_count": 260,
     "metadata": {},
     "output_type": "execute_result"
    }
   ],
   "source": [
    "1, 0, 3, 2, 5, 4"
   ]
  },
  {
   "cell_type": "code",
   "execution_count": null,
   "metadata": {},
   "outputs": [],
   "source": []
  }
 ],
 "metadata": {
  "kernelspec": {
   "display_name": "Python 3",
   "language": "python",
   "name": "python3"
  },
  "language_info": {
   "codemirror_mode": {
    "name": "ipython",
    "version": 3
   },
   "file_extension": ".py",
   "mimetype": "text/x-python",
   "name": "python",
   "nbconvert_exporter": "python",
   "pygments_lexer": "ipython3",
   "version": "3.6.3"
  }
 },
 "nbformat": 4,
 "nbformat_minor": 2
}
